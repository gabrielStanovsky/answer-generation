{
 "cells": [
  {
   "cell_type": "code",
   "execution_count": 3,
   "metadata": {},
   "outputs": [],
   "source": [
    "import csv\n",
    "from os.path import join"
   ]
  },
  {
   "cell_type": "code",
   "execution_count": 1,
   "metadata": {},
   "outputs": [],
   "source": [
    "files = ['drop.csv', 'mcscript.csv', 'narrativeqa.csv', 'ropes.csv', 'quoref.csv']"
   ]
  },
  {
   "cell_type": "code",
   "execution_count": 50,
   "metadata": {},
   "outputs": [],
   "source": [
    "for f in files:\n",
    "    print\n",
    "    old_file = open(join('../merge_predictions/sampled_predictions/bak/', f))\n",
    "    new_file = open(join('../merge_predictions/sampled_predictions/', f))\n",
    "    \n",
    "    old_file.readline()\n",
    "    new_file.readline()\n",
    "    \n",
    "    for old_line, new_line in zip(csv.reader(old_file), csv.reader(new_file)):\n",
    "        num_entries = int((len(old_line)-2)/5)\n",
    "        \n",
    "        assert old_line[1] != new_line[0]\n",
    "        for i in range(num_entries):\n",
    "            old_context, old_question, old_ref, old_cand, old_src, old_id = [old_line[0]] + old_line[2+5*i:2+5*i + 5]\n",
    "            new_context, new_question, new_ref, new_cand, new_src, new_id = new_line[1+6*i:1+6*i+6]\n",
    "            \n",
    "            assert old_context == new_context\n",
    "            assert old_question == new_question\n",
    "            assert old_ref == new_ref\n",
    "            assert old_cand == new_cand\n",
    "            assert old_src == new_src\n",
    "            assert old_id == new_id"
   ]
  },
  {
   "cell_type": "code",
   "execution_count": 47,
   "metadata": {},
   "outputs": [
    {
     "data": {
      "text/plain": [
       "('ecad9e9244e630e5124730e9bf325716', '261cc9c1879e0f5ee0312b04b9c39b92')"
      ]
     },
     "execution_count": 47,
     "metadata": {},
     "output_type": "execute_result"
    }
   ],
   "source": [
    "new_line[0], old_line[1]"
   ]
  },
  {
   "cell_type": "code",
   "execution_count": null,
   "metadata": {},
   "outputs": [],
   "source": []
  }
 ],
 "metadata": {
  "kernelspec": {
   "display_name": "answer-generation",
   "language": "python",
   "name": "answer-generation"
  },
  "language_info": {
   "codemirror_mode": {
    "name": "ipython",
    "version": 3
   },
   "file_extension": ".py",
   "mimetype": "text/x-python",
   "name": "python",
   "nbconvert_exporter": "python",
   "pygments_lexer": "ipython3",
   "version": "3.6.8"
  }
 },
 "nbformat": 4,
 "nbformat_minor": 2
}
