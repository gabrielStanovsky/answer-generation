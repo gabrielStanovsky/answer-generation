{
 "cells": [
  {
   "cell_type": "code",
   "execution_count": 54,
   "metadata": {},
   "outputs": [
    {
     "ename": "ModuleNotFoundError",
     "evalue": "No module named 'huggingface_gpt2'",
     "output_type": "error",
     "traceback": [
      "\u001b[0;31m---------------------------------------------------------------------------\u001b[0m",
      "\u001b[0;31mModuleNotFoundError\u001b[0m                       Traceback (most recent call last)",
      "\u001b[0;32m<ipython-input-54-ee02a9095205>\u001b[0m in \u001b[0;36m<module>\u001b[0;34m\u001b[0m\n\u001b[1;32m      3\u001b[0m \u001b[0msys\u001b[0m\u001b[0;34m.\u001b[0m\u001b[0mpath\u001b[0m\u001b[0;34m.\u001b[0m\u001b[0mappend\u001b[0m\u001b[0;34m(\u001b[0m\u001b[0;34m'../huggingface_gpt2/'\u001b[0m\u001b[0;34m)\u001b[0m\u001b[0;34m\u001b[0m\u001b[0;34m\u001b[0m\u001b[0m\n\u001b[1;32m      4\u001b[0m \u001b[0;32mimport\u001b[0m \u001b[0mcsv\u001b[0m\u001b[0;34m\u001b[0m\u001b[0;34m\u001b[0m\u001b[0m\n\u001b[0;32m----> 5\u001b[0;31m \u001b[0;32mfrom\u001b[0m \u001b[0mhuggingface_gpt2\u001b[0m\u001b[0;34m.\u001b[0m\u001b[0mdataset_reader\u001b[0m \u001b[0;32mimport\u001b[0m \u001b[0mGPT2ForQADatasetReader\u001b[0m\u001b[0;34m\u001b[0m\u001b[0;34m\u001b[0m\u001b[0m\n\u001b[0m\u001b[1;32m      6\u001b[0m \u001b[0;32mfrom\u001b[0m \u001b[0mtransformers\u001b[0m \u001b[0;32mimport\u001b[0m \u001b[0mGPT2LMHeadModel\u001b[0m\u001b[0;34m,\u001b[0m \u001b[0mGPT2Tokenizer\u001b[0m\u001b[0;34m,\u001b[0m \u001b[0mBertTokenizer\u001b[0m\u001b[0;34m\u001b[0m\u001b[0;34m\u001b[0m\u001b[0m\n\u001b[1;32m      7\u001b[0m \u001b[0;32mfrom\u001b[0m \u001b[0mhuggingface_gpt2\u001b[0m\u001b[0;34m.\u001b[0m\u001b[0mGPT2ForQA\u001b[0m \u001b[0;32mimport\u001b[0m \u001b[0mGPT2ForQA\u001b[0m\u001b[0;34m\u001b[0m\u001b[0;34m\u001b[0m\u001b[0m\n",
      "\u001b[0;31mModuleNotFoundError\u001b[0m: No module named 'huggingface_gpt2'"
     ]
    }
   ],
   "source": [
    "from allennlp.models.archival import load_archive\n",
    "import sys\n",
    "sys.path.append('../huggingface_gpt2/')\n",
    "import csv\n",
    "from huggingface_gpt2.dataset_reader import GPT2ForQADatasetReader\n",
    "from transformers import GPT2LMHeadModel, GPT2Tokenizer, BertTokenizer\n",
    "from huggingface_gpt2.GPT2ForQA import GPT2ForQA\n",
    "from huggingface_gpt2.mytrainer import MyTrainer"
   ]
  },
  {
   "cell_type": "code",
   "execution_count": 4,
   "metadata": {
    "scrolled": false
   },
   "outputs": [],
   "source": [
    "# archive = load_archive('../huggingface_gpt2/models/narrativeqa/model.tar.gz')"
   ]
  },
  {
   "cell_type": "code",
   "execution_count": 5,
   "metadata": {},
   "outputs": [],
   "source": [
    "# model = archive.model.gpt2_model"
   ]
  },
  {
   "cell_type": "code",
   "execution_count": 7,
   "metadata": {
    "code_folding": [
     4
    ]
   },
   "outputs": [],
   "source": [
    "# huggingface_gpt2 = open('../huggingface_gpt2/models/cosmosqa/dev.csv_generation')\n",
    "# gpt2 = open('../gpt/models/cosmosqa/dev.csv_generation')\n",
    "# bt = open('../backtranslation/cosmosqa/dev.csv_answers.backtranslations')\n",
    "\n",
    "# for i, (huggingface_line, line, bt_line) in enumerate(zip(csv.reader(huggingface_gpt2), csv.reader(gpt2), csv.reader(bt))):\n",
    "#     assert huggingface_line[0] == line[0]\n",
    "#     context, question, reference = line[1], line[2], line[3]\n",
    "#     print('Context: ', context, '\\n')\n",
    "#     print('Question: ', question, '\\n')\n",
    "#     print('Answer: ', reference, '\\n')\n",
    "#     print('GPT2 candidate all: ', line[4:], '\\n')\n",
    "#     print('GPT2 answer only: ', huggingface_line[4:], '\\n')\n",
    "#     print('Backtranslation: ', bt_line[4:], '\\n')\n",
    "#     print('='*100)\n",
    "    \n",
    "#     if i > 10:\n",
    "#         break\n",
    "\n",
    "# huggingface_gpt2.close()\n",
    "# gpt2.close()"
   ]
  },
  {
   "cell_type": "code",
   "execution_count": 45,
   "metadata": {},
   "outputs": [],
   "source": [
    "a = {'hi': 12}"
   ]
  },
  {
   "cell_type": "code",
   "execution_count": 46,
   "metadata": {},
   "outputs": [
    {
     "data": {
      "text/plain": [
       "{'hi': 12}"
      ]
     },
     "execution_count": 46,
     "metadata": {},
     "output_type": "execute_result"
    }
   ],
   "source": [
    "a"
   ]
  },
  {
   "cell_type": "code",
   "execution_count": 50,
   "metadata": {},
   "outputs": [
    {
     "name": "stdout",
     "output_type": "stream",
     "text": [
      "hi\n"
     ]
    }
   ],
   "source": [
    "for key in a.keys():\n",
    "    print(key)"
   ]
  },
  {
   "cell_type": "code",
   "execution_count": 51,
   "metadata": {},
   "outputs": [
    {
     "data": {
      "text/plain": [
       "['hi']"
      ]
     },
     "execution_count": 51,
     "metadata": {},
     "output_type": "execute_result"
    }
   ],
   "source": [
    "list(a.keys())"
   ]
  },
  {
   "cell_type": "code",
   "execution_count": null,
   "metadata": {},
   "outputs": [],
   "source": []
  }
 ],
 "metadata": {
  "kernelspec": {
   "display_name": "answer-generation",
   "language": "python",
   "name": "answer-generation"
  },
  "language_info": {
   "codemirror_mode": {
    "name": "ipython",
    "version": 3
   },
   "file_extension": ".py",
   "mimetype": "text/x-python",
   "name": "python",
   "nbconvert_exporter": "python",
   "pygments_lexer": "ipython3",
   "version": "3.6.8"
  }
 },
 "nbformat": 4,
 "nbformat_minor": 2
}
