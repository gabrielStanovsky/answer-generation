{
 "cells": [
  {
   "cell_type": "code",
   "execution_count": 1,
   "metadata": {},
   "outputs": [],
   "source": [
    "from allennlp.models.archival import load_archive\n",
    "from allennlp.data.dataset import Batch\n",
    "from allennlp.data.dataset_readers.dataset_reader import DatasetReader\n",
    "from allennlp.predictors import Predictor\n",
    "import csv, sys\n",
    "from tqdm import tqdm\n",
    "sys.path.append('/home/tony/QAMetric/Discriminative-Filtering/files')\n",
    "sys.path.append('../merge_predictions/')\n",
    "\n",
    "from model import Bert\n",
    "from dataset_reader import ParaphraseDatasetReader\n",
    "from merge_utils import *"
   ]
  },
  {
   "cell_type": "code",
   "execution_count": null,
   "metadata": {
    "code_folding": []
   },
   "outputs": [],
   "source": [
    "archive = load_archive('../backtranslation/cosmosqa_discriminator//model.tar.gz')\n",
    "model = archive.model.to(0).eval()\n",
    "dataset_reader_params = archive.config.pop('dataset_reader')\n",
    "dataset_reader_name = dataset_reader_params.pop('type')\n",
    "reader = DatasetReader.by_name(dataset_reader_name).from_params(dataset_reader_params)\n",
    "\n",
    "predictor = Predictor(model, reader)\n",
    "with open('../backtranslation/cosmosqa/dev.csv_answers.backtranslations', 'r', encoding='utf8', errors='ignore') as fp:\n",
    "    for i, line in enumerate(csv.reader(fp)):\n",
    "        if i > 100:\n",
    "            break\n",
    "        context = reader.clean_string(line[1])\n",
    "        question = reader.clean_string(line[2])\n",
    "        answer = reader.clean_string(line[3])\n",
    "        backtranslations = [reader.clean_string(eval(c)[0]) for c in line[5:]]\n",
    "        \n",
    "        print(question)\n",
    "        instance = reader.text_to_instance(context + ' ' + question, answer)\n",
    "        output_dict = predictor.predict_instance(instance)\n",
    "        print(answer, output_dict['class_probabilities'])\n",
    "        scores = []\n",
    "        for bt in backtranslations:\n",
    "            if bert_tokenization_length(context, question, answer, bt) + 4 > 512:\n",
    "                continue\n",
    "            \n",
    "            if bt.lower() == answer.lower():\n",
    "                continue\n",
    "            instance = reader.text_to_instance(context + ' ' + question, bt)\n",
    "            output_dict = predictor.predict_instance(instance)\n",
    "            scores.append((bt, output_dict['class_probabilities']))\n",
    "        \n",
    "        scores = sorted(scores, key=lambda x: x[1], reverse=True)\n",
    "        for bt, score in scores:\n",
    "            print(bt, score)\n",
    "            \n",
    "        print('\\n')"
   ]
  }
 ],
 "metadata": {
  "kernelspec": {
   "display_name": "answer-generation",
   "language": "python",
   "name": "answer-generation"
  },
  "language_info": {
   "codemirror_mode": {
    "name": "ipython",
    "version": 3
   },
   "file_extension": ".py",
   "mimetype": "text/x-python",
   "name": "python",
   "nbconvert_exporter": "python",
   "pygments_lexer": "ipython3",
   "version": "3.6.8"
  }
 },
 "nbformat": 4,
 "nbformat_minor": 2
}
