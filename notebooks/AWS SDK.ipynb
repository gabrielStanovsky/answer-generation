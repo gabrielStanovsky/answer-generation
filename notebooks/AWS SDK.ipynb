{
 "cells": [
  {
   "cell_type": "code",
   "execution_count": 1,
   "metadata": {
    "code_folding": [
     6
    ]
   },
   "outputs": [],
   "source": [
    "import boto3\n",
    "import csv\n",
    "import json\n",
    "from jsonlines import Reader\n",
    "from pprint import pprint\n",
    "\n",
    "config = json.load(open('/home/tony/.aws/mycredentials'))\n",
    "client = boto3.client('mturk', \n",
    "                      endpoint_url='https://mturk-requester-sandbox.us-east-1.amazonaws.com',\n",
    "                      region_name=config['region_name'],\n",
    "                      aws_access_key_id=config['aws_access_key_id'],\n",
    "                      aws_secret_access_key=config['aws_secret_access_key'])"
   ]
  },
  {
   "cell_type": "code",
   "execution_count": 2,
   "metadata": {
    "code_folding": [
     0
    ]
   },
   "outputs": [],
   "source": [
    "def get_hits(client):\n",
    "    hits = client.list_hits(MaxResults=100)['HITs']\n",
    "    \n",
    "    # Load in hits into dictionary\n",
    "    hit_dict = {}\n",
    "\n",
    "    for hit in hits:\n",
    "        hit_id = hit['HITId']\n",
    "        hit_type_id = hit['HITTypeId']\n",
    "        hit_layout_id = hit['HITLayoutId']\n",
    "        hit_title = hit['Title']\n",
    "        hit_group_id = hit['HITGroupId']\n",
    "        context = hit['Question'].split('<p style=\"font-size: 12pt;font-family:Verdana;color: black;\">')[1][1:15]\n",
    "        if hit_title not in hit_dict:\n",
    "            hit_dict[hit_title]  = {'hit_type_id': hit_type_id, 'hit_layout_id': hit_layout_id, 'hits': []}\n",
    "        else:\n",
    "            assert hit_dict[hit_title]['hit_type_id'] == hit_type_id\n",
    "            assert hit_dict[hit_title]['hit_layout_id'] == hit_layout_id\n",
    "\n",
    "        hit_dict[hit_title]['hits'].append((hit_id, context))\n",
    "\n",
    "    return hit_dict"
   ]
  },
  {
   "cell_type": "code",
   "execution_count": 3,
   "metadata": {},
   "outputs": [
    {
     "data": {
      "text/plain": [
       "['3OY1URRDRXYSOP26ZM4ULWOVQ30TIE']"
      ]
     },
     "execution_count": 3,
     "metadata": {},
     "output_type": "execute_result"
    }
   ],
   "source": [
    "# hit_dict = get_hits(client)\n",
    "qualifications = client.list_qualification_types(MustBeRequestable=True, MustBeOwnedByCaller=True)['QualificationTypes']\n",
    "[e['QualificationTypeId'] for e in qualifications]"
   ]
  },
  {
   "cell_type": "code",
   "execution_count": 4,
   "metadata": {},
   "outputs": [],
   "source": [
    "response = client.list_qualification_types(MustBeRequestable=True, MustBeOwnedByCaller=True)\n",
    "assert response['ResponseMetadata']['HTTPStatusCode'] == 200\n",
    "qual_dict = {d['Name']:d['QualificationTypeId'] for d in response['QualificationTypes']}"
   ]
  },
  {
   "cell_type": "code",
   "execution_count": 5,
   "metadata": {},
   "outputs": [
    {
     "data": {
      "text/plain": [
       "{'narrativeqa': '3OY1URRDRXYSOP26ZM4ULWOVQ30TIE'}"
      ]
     },
     "execution_count": 5,
     "metadata": {},
     "output_type": "execute_result"
    }
   ],
   "source": [
    "qual_dict"
   ]
  },
  {
   "cell_type": "code",
   "execution_count": 8,
   "metadata": {},
   "outputs": [],
   "source": [
    "seen = set()\n",
    "\n",
    "for line in Reader(open('../worker_scores.jsonl')):\n",
    "    seen.add((line['worker_id'], line['qual_id']))"
   ]
  },
  {
   "cell_type": "code",
   "execution_count": 9,
   "metadata": {
    "scrolled": false
   },
   "outputs": [
    {
     "data": {
      "text/plain": [
       "{('A3F7KR3PHILUED', '3OY1URRDRXYSOP26ZM4ULWOVQ30TIE')}"
      ]
     },
     "execution_count": 9,
     "metadata": {},
     "output_type": "execute_result"
    }
   ],
   "source": [
    "seen"
   ]
  },
  {
   "cell_type": "code",
   "execution_count": null,
   "metadata": {
    "code_folding": [
     0
    ],
    "scrolled": true
   },
   "outputs": [],
   "source": [
    "# # Create a HIT via API\n",
    "# hit_type_id = hit_dict['Evaluating Question Answering (NarrativeQA)']['hit_type_id']\n",
    "# hit_layout_id = hit_dict['Evaluating Question Answering (NarrativeQA)']['hit_layout_id']\n",
    "\n",
    "# hit_layout_parameters = []\n",
    "\n",
    "# with open('test_mt/narrativeqa_batch3.csv') as csvfile:\n",
    "#     for line in csv.DictReader(csvfile):\n",
    "#         for key, value in line.items():\n",
    "#             hit_layout_parameters.append({'Name': key, 'Value': value})\n",
    "            \n",
    "#         client.create_hit_with_hit_type(HITTypeId=hit_type_id, \n",
    "#                                         HITLayoutId=hit_layout_id,\n",
    "#                                         HITLayoutParameters=hit_layout_parameters,\n",
    "#                                         LifetimeInSeconds=432000)\n",
    "        \n",
    "#         break"
   ]
  },
  {
   "cell_type": "code",
   "execution_count": null,
   "metadata": {
    "code_folding": [
     0
    ]
   },
   "outputs": [],
   "source": [
    "# # Getting qualification request and accepting them\n",
    "# response = client.list_qualification_requests()\n",
    "# if response['ResponseMetadata']['HTTPStatusCode'] == 200:\n",
    "#     for request in response['QualificationRequests']:\n",
    "#         qual_request_id = request['QualificationRequestId']\n",
    "#         worker_id = request['WorkerId']\n",
    "#         qual_type_id = request['QualificationTypeId']\n",
    "#         qual_name = client.get_qualification_type(QualificationTypeId=qual_type_id)['QualificationType']['Name']\n",
    "#         print('Approving', 'A3F7KR3PHILUED',  'for', qual_name)\n",
    "        \n",
    "#         client.accept_qualification_request(QualificationRequestId=qual_request_id)\n",
    "\n",
    "# # Remove qual from worker\n",
    "# client.disassociate_qualification_from_worker(WorkerId='A3F7KR3PHILUED', QualificationTypeId='3ACE7X5EF9EID7V067SRRIKB9S7NEY')\n",
    "\n",
    "# client.associate_qualification_with_worker(QualificationTypeId='3ACE7X5EF9EID7V067SRRIKB9S7NEY',\n",
    "#                                            WorkerId='A3F7KR3PHILUED')\n",
    "\n",
    "# client.list_workers_with_qualification_type(QualificationTypeId='3ACE7X5EF9EID7V067SRRIKB9S7NEY')\n",
    "\n",
    "# # Remove qual from worker\n",
    "# client.disassociate_qualification_from_worker(WorkerId='A3F7KR3PHILUED', QualificationTypeId='3ACE7X5EF9EID7V067SRRIKB9S7NEY')"
   ]
  }
 ],
 "metadata": {
  "kernelspec": {
   "display_name": "answer-generation",
   "language": "python",
   "name": "answer-generation"
  },
  "language_info": {
   "codemirror_mode": {
    "name": "ipython",
    "version": 3
   },
   "file_extension": ".py",
   "mimetype": "text/x-python",
   "name": "python",
   "nbconvert_exporter": "python",
   "pygments_lexer": "ipython3",
   "version": "3.6.8"
  }
 },
 "nbformat": 4,
 "nbformat_minor": 2
}
